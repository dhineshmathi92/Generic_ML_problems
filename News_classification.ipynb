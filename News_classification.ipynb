{
 "cells": [
  {
   "cell_type": "code",
   "execution_count": 1,
   "id": "61b68dd6-16a8-41a7-b032-a33e3cd43861",
   "metadata": {},
   "outputs": [],
   "source": [
    "import pandas as pd\n",
    "import numpy as np\n",
    "import spacy"
   ]
  },
  {
   "cell_type": "code",
   "execution_count": null,
   "id": "32091e40-a484-4f03-ac22-2cd6cad7829a",
   "metadata": {
    "scrolled": true
   },
   "outputs": [],
   "source": [
    "!python -m spacy download en_core_web_lg"
   ]
  },
  {
   "cell_type": "code",
   "execution_count": 5,
   "id": "58d9426c-f278-470d-8cea-0031c9139eb6",
   "metadata": {},
   "outputs": [],
   "source": [
    "nlp = spacy.load(\"en_core_web_lg\")"
   ]
  },
  {
   "cell_type": "code",
   "execution_count": 6,
   "id": "f1a31ef3-1a3d-4a7d-9193-aa0e74c45eb4",
   "metadata": {},
   "outputs": [
    {
     "data": {
      "text/html": [
       "<div>\n",
       "<style scoped>\n",
       "    .dataframe tbody tr th:only-of-type {\n",
       "        vertical-align: middle;\n",
       "    }\n",
       "\n",
       "    .dataframe tbody tr th {\n",
       "        vertical-align: top;\n",
       "    }\n",
       "\n",
       "    .dataframe thead th {\n",
       "        text-align: right;\n",
       "    }\n",
       "</style>\n",
       "<table border=\"1\" class=\"dataframe\">\n",
       "  <thead>\n",
       "    <tr style=\"text-align: right;\">\n",
       "      <th></th>\n",
       "      <th>Text</th>\n",
       "      <th>label</th>\n",
       "    </tr>\n",
       "  </thead>\n",
       "  <tbody>\n",
       "    <tr>\n",
       "      <th>0</th>\n",
       "      <td>Top Trump Surrogate BRUTALLY Stabs Him In The...</td>\n",
       "      <td>Fake</td>\n",
       "    </tr>\n",
       "    <tr>\n",
       "      <th>1</th>\n",
       "      <td>U.S. conservative leader optimistic of common ...</td>\n",
       "      <td>Real</td>\n",
       "    </tr>\n",
       "    <tr>\n",
       "      <th>2</th>\n",
       "      <td>Trump proposes U.S. tax overhaul, stirs concer...</td>\n",
       "      <td>Real</td>\n",
       "    </tr>\n",
       "    <tr>\n",
       "      <th>3</th>\n",
       "      <td>Court Forces Ohio To Allow Millions Of Illega...</td>\n",
       "      <td>Fake</td>\n",
       "    </tr>\n",
       "    <tr>\n",
       "      <th>4</th>\n",
       "      <td>Democrats say Trump agrees to work on immigrat...</td>\n",
       "      <td>Real</td>\n",
       "    </tr>\n",
       "  </tbody>\n",
       "</table>\n",
       "</div>"
      ],
      "text/plain": [
       "                                                Text label\n",
       "0   Top Trump Surrogate BRUTALLY Stabs Him In The...  Fake\n",
       "1  U.S. conservative leader optimistic of common ...  Real\n",
       "2  Trump proposes U.S. tax overhaul, stirs concer...  Real\n",
       "3   Court Forces Ohio To Allow Millions Of Illega...  Fake\n",
       "4  Democrats say Trump agrees to work on immigrat...  Real"
      ]
     },
     "execution_count": 6,
     "metadata": {},
     "output_type": "execute_result"
    }
   ],
   "source": [
    "news_df = pd.read_csv(\"fake_and_real_news.csv\")\n",
    "news_df.head()"
   ]
  },
  {
   "cell_type": "code",
   "execution_count": 7,
   "id": "48c63e36-c589-40ea-af76-1b705af08e22",
   "metadata": {},
   "outputs": [
    {
     "data": {
      "text/plain": [
       "(9900, 2)"
      ]
     },
     "execution_count": 7,
     "metadata": {},
     "output_type": "execute_result"
    }
   ],
   "source": [
    "news_df.shape"
   ]
  },
  {
   "cell_type": "code",
   "execution_count": 8,
   "id": "31fd729d-b129-4740-8c9b-b834dcf41cfc",
   "metadata": {},
   "outputs": [
    {
     "data": {
      "text/plain": [
       "label\n",
       "Fake    5000\n",
       "Real    4900\n",
       "Name: count, dtype: int64"
      ]
     },
     "execution_count": 8,
     "metadata": {},
     "output_type": "execute_result"
    }
   ],
   "source": [
    "# Checking for class imbalance\n",
    "news_df['label'].value_counts()"
   ]
  },
  {
   "cell_type": "code",
   "execution_count": 12,
   "id": "825937b2-47f2-4978-9a02-fecec179daa1",
   "metadata": {},
   "outputs": [
    {
     "data": {
      "text/plain": [
       "' Top Trump Surrogate BRUTALLY Stabs Him In The Back: ‘He’s Pathetic’ (VIDEO) It s looking as though Republican presidential candidate Donald Trump is losing support even from within his own ranks. You know things are getting bad when even your top surrogates start turning against you, which is exactly what just happened on Fox News when Newt Gingrich called Trump  pathetic. Gingrich knows that Trump needs to keep his focus on Hillary Clinton if he even remotely wants to have a chance at defeating her. However, Trump has hurt feelings because many Republicans don t support his sexual assault against women have turned against him, including House Speaker Paul Ryan (R-WI). So, that has made Trump lash out as his own party.Gingrich said on Fox News: Look, first of all, let me just say about Trump, who I admire and I ve tried to help as much as I can. There s a big Trump and a little Trump. The little Trump is frankly pathetic. I mean, he s mad over not getting a phone call? Trump s referring to the fact that Paul Ryan didn t call to congratulate him after the debate. Probably because he didn t win despite what Trump s ego tells him.Gingrich also added: Donald Trump has one opponent. Her name is Hillary Clinton. Her name is not Paul Ryan. It s not anybody else. Trump doesn t seem to realize that the person he should be mad at is himself because he truly is his own worst enemy. This will ultimately lead to his defeat and he will have no one to blame but himself.Watch here via Politico:Featured Photo by Joe Raedle/Getty Images'"
      ]
     },
     "execution_count": 12,
     "metadata": {},
     "output_type": "execute_result"
    }
   ],
   "source": [
    "samp_news = news_df.iloc[0,0]\n",
    "samp_news"
   ]
  },
  {
   "cell_type": "code",
   "execution_count": 14,
   "id": "784ac9bb-d10d-46a4-9099-93f57ac216a7",
   "metadata": {},
   "outputs": [
    {
     "data": {
      "text/plain": [
       "(300,)"
      ]
     },
     "execution_count": 14,
     "metadata": {},
     "output_type": "execute_result"
    }
   ],
   "source": [
    "# Using spacy to identify the vectors of the document\n",
    "nlp(samp_news).vector.shape"
   ]
  },
  {
   "cell_type": "code",
   "execution_count": 19,
   "id": "c76dd63f-6171-480b-a096-3f335920108e",
   "metadata": {},
   "outputs": [],
   "source": [
    "# Simple converting text to vector without removing stopwords and punctuations\n",
    "def text_to_vect(text):\n",
    "    doc = nlp(text)\n",
    "    return doc.vector"
   ]
  },
  {
   "cell_type": "code",
   "execution_count": 40,
   "id": "49094ee1-b027-4ff7-aed8-1ea4ed16ce9c",
   "metadata": {},
   "outputs": [],
   "source": [
    "# Mapping the target to numerical values\n",
    "target_map = {cat: num for num,cat in enumerate(news_df['label'].unique())}\n",
    "news_df['label_num'] = news_df['label'].map(target_map)\n",
    "news_df['text_vect'] = news_df['Text'].map(text_to_vect)"
   ]
  },
  {
   "cell_type": "code",
   "execution_count": 56,
   "id": "a4a9ff89-a577-408c-a2f0-ebd7d6ec8a68",
   "metadata": {},
   "outputs": [
    {
     "data": {
      "text/html": [
       "<div>\n",
       "<style scoped>\n",
       "    .dataframe tbody tr th:only-of-type {\n",
       "        vertical-align: middle;\n",
       "    }\n",
       "\n",
       "    .dataframe tbody tr th {\n",
       "        vertical-align: top;\n",
       "    }\n",
       "\n",
       "    .dataframe thead th {\n",
       "        text-align: right;\n",
       "    }\n",
       "</style>\n",
       "<table border=\"1\" class=\"dataframe\">\n",
       "  <thead>\n",
       "    <tr style=\"text-align: right;\">\n",
       "      <th></th>\n",
       "      <th>Text</th>\n",
       "      <th>label</th>\n",
       "      <th>label_num</th>\n",
       "      <th>label_vect</th>\n",
       "      <th>text_vect</th>\n",
       "    </tr>\n",
       "  </thead>\n",
       "  <tbody>\n",
       "    <tr>\n",
       "      <th>0</th>\n",
       "      <td>Top Trump Surrogate BRUTALLY Stabs Him In The...</td>\n",
       "      <td>Fake</td>\n",
       "      <td>0</td>\n",
       "      <td>[-0.27634, -1.4136, 0.96135, 1.4931, 3.4228, 0...</td>\n",
       "      <td>[-0.6759837, 1.4263071, -2.318466, -0.451093, ...</td>\n",
       "    </tr>\n",
       "    <tr>\n",
       "      <th>1</th>\n",
       "      <td>U.S. conservative leader optimistic of common ...</td>\n",
       "      <td>Real</td>\n",
       "      <td>1</td>\n",
       "      <td>[4.6369, 1.4167, 4.419, 3.4824, 0.24608, 2.565...</td>\n",
       "      <td>[-1.8355803, 1.3101058, -2.4919677, 1.0268308,...</td>\n",
       "    </tr>\n",
       "    <tr>\n",
       "      <th>2</th>\n",
       "      <td>Trump proposes U.S. tax overhaul, stirs concer...</td>\n",
       "      <td>Real</td>\n",
       "      <td>1</td>\n",
       "      <td>[4.6369, 1.4167, 4.419, 3.4824, 0.24608, 2.565...</td>\n",
       "      <td>[-1.9851209, 0.14389805, -2.4221718, 0.9133005...</td>\n",
       "    </tr>\n",
       "    <tr>\n",
       "      <th>3</th>\n",
       "      <td>Court Forces Ohio To Allow Millions Of Illega...</td>\n",
       "      <td>Fake</td>\n",
       "      <td>0</td>\n",
       "      <td>[-0.27634, -1.4136, 0.96135, 1.4931, 3.4228, 0...</td>\n",
       "      <td>[-2.7812982, -0.16120885, -1.609772, 1.3624227...</td>\n",
       "    </tr>\n",
       "    <tr>\n",
       "      <th>4</th>\n",
       "      <td>Democrats say Trump agrees to work on immigrat...</td>\n",
       "      <td>Real</td>\n",
       "      <td>1</td>\n",
       "      <td>[4.6369, 1.4167, 4.419, 3.4824, 0.24608, 2.565...</td>\n",
       "      <td>[-2.2010763, 0.9961637, -2.4088492, 1.128273, ...</td>\n",
       "    </tr>\n",
       "  </tbody>\n",
       "</table>\n",
       "</div>"
      ],
      "text/plain": [
       "                                                Text label  label_num  \\\n",
       "0   Top Trump Surrogate BRUTALLY Stabs Him In The...  Fake          0   \n",
       "1  U.S. conservative leader optimistic of common ...  Real          1   \n",
       "2  Trump proposes U.S. tax overhaul, stirs concer...  Real          1   \n",
       "3   Court Forces Ohio To Allow Millions Of Illega...  Fake          0   \n",
       "4  Democrats say Trump agrees to work on immigrat...  Real          1   \n",
       "\n",
       "                                          label_vect  \\\n",
       "0  [-0.27634, -1.4136, 0.96135, 1.4931, 3.4228, 0...   \n",
       "1  [4.6369, 1.4167, 4.419, 3.4824, 0.24608, 2.565...   \n",
       "2  [4.6369, 1.4167, 4.419, 3.4824, 0.24608, 2.565...   \n",
       "3  [-0.27634, -1.4136, 0.96135, 1.4931, 3.4228, 0...   \n",
       "4  [4.6369, 1.4167, 4.419, 3.4824, 0.24608, 2.565...   \n",
       "\n",
       "                                           text_vect  \n",
       "0  [-0.6759837, 1.4263071, -2.318466, -0.451093, ...  \n",
       "1  [-1.8355803, 1.3101058, -2.4919677, 1.0268308,...  \n",
       "2  [-1.9851209, 0.14389805, -2.4221718, 0.9133005...  \n",
       "3  [-2.7812982, -0.16120885, -1.609772, 1.3624227...  \n",
       "4  [-2.2010763, 0.9961637, -2.4088492, 1.128273, ...  "
      ]
     },
     "execution_count": 56,
     "metadata": {},
     "output_type": "execute_result"
    }
   ],
   "source": [
    "news_df.head()"
   ]
  },
  {
   "cell_type": "code",
   "execution_count": 52,
   "id": "cfe99459-3aa5-4173-ae7a-ee57b8054ca8",
   "metadata": {},
   "outputs": [],
   "source": [
    "X = news_df['text_vect']\n",
    "# X = np.stack(news_df['text_vect'].values)\n",
    "y = news_df['label_num'] "
   ]
  },
  {
   "cell_type": "code",
   "execution_count": 53,
   "id": "0ee9b69e-a585-4717-b1aa-037247e9afe6",
   "metadata": {},
   "outputs": [],
   "source": [
    "# Splitting train and test data\n",
    "from sklearn.model_selection import train_test_split\n",
    "Xtrain, Xtest, ytrain, ytest = train_test_split(X, y, test_size=0.2, random_state=42, stratify=y)"
   ]
  },
  {
   "cell_type": "code",
   "execution_count": 63,
   "id": "81862905-0853-4370-b573-970755039cc1",
   "metadata": {},
   "outputs": [
    {
     "data": {
      "text/plain": [
       "((7920,), (1980,))"
      ]
     },
     "execution_count": 63,
     "metadata": {},
     "output_type": "execute_result"
    }
   ],
   "source": [
    "Xtrain.shape, Xtest.shape"
   ]
  },
  {
   "cell_type": "code",
   "execution_count": 68,
   "id": "cb9ca3ee-1b9b-4f65-b94a-9fee686332c4",
   "metadata": {},
   "outputs": [],
   "source": [
    "from sklearn.neighbors import KNeighborsClassifier"
   ]
  },
  {
   "cell_type": "code",
   "execution_count": 71,
   "id": "9fc64d45-668d-4678-b781-84adfe7910f1",
   "metadata": {},
   "outputs": [],
   "source": [
    "knn = KNeighborsClassifier(n_neighbors=5, n_jobs=-1)\n",
    "knn.fit(np.stack(Xtrain.values), ytrain)\n",
    "ypred = knn.predict(np.stack(Xtest.values))"
   ]
  },
  {
   "cell_type": "code",
   "execution_count": 72,
   "id": "44f1fc62-7267-46d0-a267-9c9e9f203b03",
   "metadata": {},
   "outputs": [],
   "source": [
    "# Importing metrics for evaluation\n",
    "from sklearn.metrics import classification_report, confusion_matrix"
   ]
  },
  {
   "cell_type": "code",
   "execution_count": 73,
   "id": "3ebc236f-1693-4983-a3c9-aa92cd7de35a",
   "metadata": {},
   "outputs": [
    {
     "name": "stdout",
     "output_type": "stream",
     "text": [
      "              precision    recall  f1-score   support\n",
      "\n",
      "           0       1.00      0.99      0.99      1000\n",
      "           1       0.99      1.00      0.99       980\n",
      "\n",
      "    accuracy                           0.99      1980\n",
      "   macro avg       0.99      0.99      0.99      1980\n",
      "weighted avg       0.99      0.99      0.99      1980\n",
      "\n"
     ]
    }
   ],
   "source": [
    "print(classification_report(ytest, ypred))"
   ]
  },
  {
   "cell_type": "code",
   "execution_count": 94,
   "id": "193125c1-bfb2-4ad8-aaf3-5f2ffbd1c11b",
   "metadata": {},
   "outputs": [
    {
     "name": "stdout",
     "output_type": "stream",
     "text": [
      "Trump urges India's Modi to fix deficit, but stresses strong ties WASHINGTON (Reuters) - U.S. President Donald Trump urged Indian Prime Minister Narendra Modi to do more to relax Indian trade barriers on Monday during talks in which both leaders took great pains to stress the importance of a strong U.S.-Indian relationship. At a closely watched first meeting between the two, Trump and Modi appeared to get along well. Modi pulled in Trump for a bear hug on the stage as the cameras rolled in the Rose Garden. “I deeply appreciate your strong commitment to the enhancement of our bilateral relations,” Modi told him. “I am sure that under your leadership a mutually beneficial strategic partnership will gain new strength, new positivity, and will reach new heights.” Trump was also warm but made clear he sees a need for more balance in the U.S.-India trade relationship in keeping with his campaign promise to expand American exports and create more jobs at home. Last year the U.S. trade deficit\n",
      "\n",
      "Actual:  Real\n",
      "\n",
      "Predicted:  Real\n"
     ]
    }
   ],
   "source": [
    "print(news_df.loc[Xtest.index[0],'Text'][:1000])\n",
    "print(\"\\nActual: \",news_df.loc[Xtest.index[0],'label'])\n",
    "print(\"\\nPredicted: \", list(map(lambda x: 'Real' if x==1 else 'Fake' , knn.predict([Xtest.iloc[0]])))[0] )"
   ]
  },
  {
   "cell_type": "code",
   "execution_count": 93,
   "id": "90857b2a-4b6a-42f9-9a00-fa4e4a7b6be8",
   "metadata": {},
   "outputs": [
    {
     "name": "stdout",
     "output_type": "stream",
     "text": [
      " Once Again, Trump Proves How INCREDIBLY Ignorant He Is About The World (DETAILS) President Donald Trump does not know anything about foreign policy. Now, it appears, he knows just as little about trade. This is more troubling as one of his selling points was that he was a successful businessman with a global company. You d think that a person with such a vast empire (there are Trump Towers all over the planet) would know a thing or two about the subject. This idea was blown out of the water this week by comments from a German official about Chancellor Angela Merkel s recent visit to Washington, DC.The official told The Times of London, Ten times Trump asked [German chancellor Angela Merkel] if he could negotiate a trade deal with Germany. Every time she replied,  You can t do a trade deal with Germany, only the EU.  On the eleventh refusal, Trump finally got the message,  Oh, we ll do a deal with Europe then.' For a man who claimed to be able to  make the best deals  for the United St\n",
      "\n",
      "Actual:  Fake\n",
      "\n",
      "Predicted:  Fake\n"
     ]
    }
   ],
   "source": [
    "print(news_df.loc[Xtest.index[42],'Text'][:1000])\n",
    "print(\"\\nActual: \",news_df.loc[Xtest.index[42],'label'])\n",
    "print(\"\\nPredicted: \", list(map(lambda x: 'Real' if x==1 else 'Fake' , knn.predict([Xtest.iloc[42]]))) [0])"
   ]
  },
  {
   "cell_type": "code",
   "execution_count": 107,
   "id": "2995a400-ecfc-4982-af59-06378702ae9b",
   "metadata": {},
   "outputs": [],
   "source": [
    "mynews = \"\"\"\n",
    "Elizabeth Warren endorsed Bernie Sanders\n",
    "\"\"\"\n"
   ]
  },
  {
   "cell_type": "code",
   "execution_count": 108,
   "id": "905134ee-5894-4b41-a25c-44186929b891",
   "metadata": {},
   "outputs": [
    {
     "name": "stdout",
     "output_type": "stream",
     "text": [
      "Prediction:  Fake\n"
     ]
    }
   ],
   "source": [
    "print(\"Prediction: \", list(map(lambda x: 'Real' if x==1 else 'Fake' , knn.predict([text_to_vect(mynews)])) )[0])"
   ]
  },
  {
   "cell_type": "code",
   "execution_count": null,
   "id": "ab9c8752-27c5-42d8-9bcf-379f68661f60",
   "metadata": {},
   "outputs": [],
   "source": []
  }
 ],
 "metadata": {
  "kernelspec": {
   "display_name": "personal_env",
   "language": "python",
   "name": "personal_env"
  },
  "language_info": {
   "codemirror_mode": {
    "name": "ipython",
    "version": 3
   },
   "file_extension": ".py",
   "mimetype": "text/x-python",
   "name": "python",
   "nbconvert_exporter": "python",
   "pygments_lexer": "ipython3",
   "version": "3.9.18"
  }
 },
 "nbformat": 4,
 "nbformat_minor": 5
}
